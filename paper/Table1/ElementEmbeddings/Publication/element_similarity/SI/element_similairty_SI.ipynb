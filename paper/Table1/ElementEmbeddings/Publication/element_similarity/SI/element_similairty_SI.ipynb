{
 "cells": [
  {
   "cell_type": "markdown",
   "metadata": {},
   "source": [
    "# Supplementary Information for Element Similarity"
   ]
  },
  {
   "cell_type": "code",
   "execution_count": null,
   "metadata": {},
   "outputs": [],
   "source": [
    "# Imports\n",
    "import matplotlib.pyplot as plt\n",
    "from typing import List, Optional, Tuple\n",
    "from elementembeddings.core import Embedding, data_directory\n",
    "from elementembeddings.plotter import dimension_plotter, heatmap_plotter\n",
    "import pandas as pd\n",
    "import os\n",
    "import seaborn as sns\n",
    "\n",
    "sns.set_context(\"paper\", font_scale=1.5)\n",
    "random_state = 42\n",
    "reducer_params = {\"random_state\": random_state}\n",
    "scatter_params = {\"s\": 80}"
   ]
  },
  {
   "cell_type": "code",
   "execution_count": null,
   "metadata": {},
   "outputs": [],
   "source": [
    "# Load the embeddings\n",
    "cbfvs = [\n",
    "    \"magpie\",\n",
    "    \"matscholar\",\n",
    "    \"mat2vec\",\n",
    "    \"megnet16\",\n",
    "    \"oliynyk\",\n",
    "    \"random_200\",\n",
    "    \"skipatom\",\n",
    "]\n",
    "element_embedddings = {cbfv: Embedding.load_data(cbfv) for cbfv in cbfvs}\n",
    "\n",
    "# Standardise\n",
    "for embedding in element_embedddings.values():\n",
    "    print(f\"Attempting to standardise {embedding.embedding_name}...\")\n",
    "    print(f\" Already standardised: {embedding.is_standardised}\")\n",
    "    embedding.standardise(inplace=True)\n",
    "    print(f\"Now standardised: {embedding.is_standardised}\")"
   ]
  },
  {
   "cell_type": "code",
   "execution_count": null,
   "metadata": {},
   "outputs": [],
   "source": [
    "# Get the ordered symbols file\n",
    "symbols_path = os.path.join(data_directory, \"element_data\", \"ordered_periodic.txt\")\n",
    "with open(symbols_path) as f:\n",
    "    symbols = f.read().splitlines()\n",
    "\n",
    "# Get the first 83 elements\n",
    "symbols = symbols[:83]\n",
    "\n",
    "for cbfv in element_embedddings.keys():\n",
    "    # Get the keys of the atomic embeddings object\n",
    "    elements = set(element_embedddings[cbfv].element_list)\n",
    "    el_symbols_set = set(symbols)\n",
    "\n",
    "    # Get the element symbols we want to remove\n",
    "    els_to_remove = list(elements - el_symbols_set)\n",
    "\n",
    "    # Iteratively delete the elements with atomic number\n",
    "    # greater than 83 from our embeddings\n",
    "    for el in els_to_remove:\n",
    "        del element_embedddings[cbfv].embeddings[el]\n",
    "\n",
    "    # Verify that we have 83 elements\n",
    "    print(len(element_embedddings[cbfv].element_list))\n",
    "\n",
    "# Remove Xe and Kr from SkipAtom\n",
    "# del element_embedddings[\"skipatom\"].embeddings[\"Xe\"]\n",
    "# del element_embedddings[\"skipatom\"].embeddings[\"Kr\"]"
   ]
  },
  {
   "cell_type": "code",
   "execution_count": null,
   "metadata": {},
   "outputs": [],
   "source": [
    "# Which elements are missing for skipatom\n",
    "set(element_embedddings[\"magpie\"].element_list) - set(\n",
    "    element_embedddings[\"skipatom\"].element_list\n",
    ")"
   ]
  },
  {
   "cell_type": "markdown",
   "metadata": {},
   "source": [
    "## Similarity measures\n"
   ]
  },
  {
   "cell_type": "markdown",
   "metadata": {},
   "source": [
    "### Euclidean distance\n"
   ]
  },
  {
   "cell_type": "code",
   "execution_count": null,
   "metadata": {},
   "outputs": [],
   "source": [
    "fig, (axes) = plt.subplots(4, 2, figsize=(20, 20))\n",
    "\n",
    "for ax, cbfv in zip(axes.flatten(), element_embedddings.values()):\n",
    "    heatmap_plotter(\n",
    "        embedding=cbfv,\n",
    "        metric=\"euclidean\",\n",
    "        sortaxisby=\"atomic_number\",\n",
    "        show_axislabels=False,\n",
    "        ax=ax,\n",
    "    )\n",
    "    print(cbfv.embedding_name)\n",
    "    # plt.subplots_adjust(wspace=0.001)\n",
    "axes[-1][-1].remove()\n",
    "\n",
    "\n",
    "fig.tight_layout()\n",
    "fig.savefig(\"SI_euclidean.pdf\", bbox_inches=\"tight\")\n",
    "fig.show()"
   ]
  },
  {
   "cell_type": "markdown",
   "metadata": {},
   "source": [
    "#### Skipatom\n",
    "\n",
    "From the above plot, we can observe two element vectors causing anomalous behaviour in the skipatom plot. We plot the skipatom map with the axis labelled to determine which elements are causing this behaviour."
   ]
  },
  {
   "cell_type": "code",
   "execution_count": null,
   "metadata": {},
   "outputs": [],
   "source": [
    "fig, ax = plt.subplots(figsize=(20, 20))\n",
    "heatmap_plotter(\n",
    "    embedding=element_embedddings[\"skipatom\"],\n",
    "    metric=\"euclidean\",\n",
    "    sortaxisby=\"atomic_number\",\n",
    "    show_axislabels=True,\n",
    "    ax=ax,\n",
    ")\n",
    "\n",
    "fig.show()"
   ]
  },
  {
   "cell_type": "markdown",
   "metadata": {},
   "source": [
    "Kr and Xe contribute to the distorted images for Skipatom."
   ]
  },
  {
   "cell_type": "code",
   "execution_count": null,
   "metadata": {},
   "outputs": [],
   "source": [
    "element_embedddings[\"skipatom_no_nobles\"] = Embedding.load_data(\"skipatom\")\n",
    "\n",
    "for el in [\"Xe\", \"Kr\"]:\n",
    "    del element_embedddings[\"skipatom_no_nobles\"].embeddings[el]\n",
    "element_embedddings[\"skipatom_no_nobles\"].standardise(inplace=True)\n",
    "element_embedddings[\"skipatom_no_nobles\"].embedding_name = \"skipatom (Xe,Kr removed)\""
   ]
  },
  {
   "cell_type": "code",
   "execution_count": null,
   "metadata": {},
   "outputs": [],
   "source": [
    "fig, ax = plt.subplots(figsize=(20, 20))\n",
    "heatmap_plotter(\n",
    "    embedding=element_embedddings[\"skipatom_no_nobles\"],\n",
    "    metric=\"euclidean\",\n",
    "    sortaxisby=\"atomic_number\",\n",
    "    show_axislabels=True,\n",
    "    ax=ax,\n",
    ")\n",
    "\n",
    "fig.show()"
   ]
  },
  {
   "cell_type": "code",
   "execution_count": null,
   "metadata": {},
   "outputs": [],
   "source": [
    "fig, (axes) = plt.subplots(4, 2, figsize=(20, 20))\n",
    "\n",
    "for ax, cbfv in zip(axes.flatten(), element_embedddings.values()):\n",
    "    heatmap_plotter(\n",
    "        embedding=cbfv,\n",
    "        metric=\"euclidean\",\n",
    "        sortaxisby=\"atomic_number\",\n",
    "        show_axislabels=False,\n",
    "        ax=ax,\n",
    "    )\n",
    "    print(cbfv.embedding_name)\n",
    "    # plt.subplots_adjust(wspace=0.001)\n",
    "\n",
    "\n",
    "fig.tight_layout()\n",
    "fig.savefig(\"SI_euclidean.pdf\", bbox_inches=\"tight\")\n",
    "fig.show()"
   ]
  },
  {
   "cell_type": "markdown",
   "metadata": {},
   "source": [
    "### Manhattan distance"
   ]
  },
  {
   "cell_type": "code",
   "execution_count": null,
   "metadata": {},
   "outputs": [],
   "source": [
    "fig, (axes) = plt.subplots(4, 2, figsize=(20, 20))\n",
    "\n",
    "for ax, cbfv in zip(axes.flatten(), element_embedddings.values()):\n",
    "    heatmap_plotter(\n",
    "        embedding=cbfv,\n",
    "        metric=\"manhattan\",\n",
    "        sortaxisby=\"atomic_number\",\n",
    "        show_axislabels=False,\n",
    "        ax=ax,\n",
    "    )\n",
    "    # plt.subplots_adjust(wspace=0.001)\n",
    "\n",
    "\n",
    "fig.tight_layout()\n",
    "fig.savefig(\"SI_manhattan.pdf\", bbox_inches=\"tight\")\n",
    "fig.show()"
   ]
  },
  {
   "cell_type": "markdown",
   "metadata": {},
   "source": [
    "### Chebyshev"
   ]
  },
  {
   "cell_type": "code",
   "execution_count": null,
   "metadata": {},
   "outputs": [],
   "source": [
    "fig, (axes) = plt.subplots(4, 2, figsize=(20, 20))\n",
    "\n",
    "for ax, cbfv in zip(axes.flatten(), element_embedddings.values()):\n",
    "    heatmap_plotter(\n",
    "        embedding=cbfv,\n",
    "        metric=\"chebyshev\",\n",
    "        sortaxisby=\"atomic_number\",\n",
    "        show_axislabels=False,\n",
    "        ax=ax,\n",
    "    )\n",
    "    # plt.subplots_adjust(wspace=0.001)\n",
    "\n",
    "\n",
    "fig.tight_layout()\n",
    "fig.savefig(\"SI_chebyshev.pdf\", bbox_inches=\"tight\")\n",
    "fig.show()"
   ]
  },
  {
   "cell_type": "markdown",
   "metadata": {},
   "source": [
    "### Wasserstein distance"
   ]
  },
  {
   "cell_type": "code",
   "execution_count": null,
   "metadata": {},
   "outputs": [],
   "source": [
    "fig, (axes) = plt.subplots(4, 2, figsize=(20, 20))\n",
    "\n",
    "for ax, cbfv in zip(axes.flatten(), element_embedddings.values()):\n",
    "    heatmap_plotter(\n",
    "        embedding=cbfv,\n",
    "        metric=\"wasserstein\",\n",
    "        sortaxisby=\"atomic_number\",\n",
    "        show_axislabels=False,\n",
    "        ax=ax,\n",
    "    )\n",
    "    # plt.subplots_adjust(wspace=0.001)\n",
    "\n",
    "\n",
    "fig.tight_layout()\n",
    "fig.savefig(\"SI_wasserstein.pdf\", bbox_inches=\"tight\")\n",
    "fig.show()"
   ]
  },
  {
   "cell_type": "markdown",
   "metadata": {},
   "source": [
    "### Cosine distance"
   ]
  },
  {
   "cell_type": "code",
   "execution_count": null,
   "metadata": {},
   "outputs": [],
   "source": [
    "fig, (axes) = plt.subplots(4, 2, figsize=(20, 20))\n",
    "\n",
    "for ax, cbfv in zip(axes.flatten(), element_embedddings.values()):\n",
    "    heatmap_plotter(\n",
    "        embedding=cbfv,\n",
    "        metric=\"cosine_distance\",\n",
    "        sortaxisby=\"atomic_number\",\n",
    "        show_axislabels=False,\n",
    "        ax=ax,\n",
    "    )\n",
    "    # plt.subplots_adjust(wspace=0.001)\n",
    "\n",
    "\n",
    "fig.tight_layout()\n",
    "fig.savefig(\"SI_cosdistance.pdf\", bbox_inches=\"tight\")\n",
    "fig.show()"
   ]
  },
  {
   "cell_type": "markdown",
   "metadata": {},
   "source": [
    "### Pearson correlation"
   ]
  },
  {
   "cell_type": "code",
   "execution_count": null,
   "metadata": {},
   "outputs": [],
   "source": [
    "fig, (axes) = plt.subplots(4, 2, figsize=(20, 20))\n",
    "heatmap_params = {\"vmin\": -1, \"vmax\": 1}\n",
    "for ax, cbfv in zip(axes.flatten(), element_embedddings.values()):\n",
    "    heatmap_plotter(\n",
    "        embedding=cbfv,\n",
    "        metric=\"pearson\",\n",
    "        cmap=\"Blues_r\",\n",
    "        sortaxisby=\"atomic_number\",\n",
    "        show_axislabels=False,\n",
    "        ax=ax,\n",
    "        **heatmap_params\n",
    "    )\n",
    "    # plt.subplots_adjust(wspace=0.001)\n",
    "\n",
    "\n",
    "fig.tight_layout()\n",
    "fig.savefig(\"SI_pearson.pdf\", bbox_inches=\"tight\")\n",
    "fig.show()"
   ]
  },
  {
   "cell_type": "markdown",
   "metadata": {},
   "source": [
    "### Spearman correlation"
   ]
  },
  {
   "cell_type": "code",
   "execution_count": null,
   "metadata": {},
   "outputs": [],
   "source": [
    "fig, (axes) = plt.subplots(4, 2, figsize=(20, 20))\n",
    "heatmap_params = {\"vmin\": -1, \"vmax\": 1}\n",
    "for ax, cbfv in zip(axes.flatten(), element_embedddings.values()):\n",
    "    heatmap_plotter(\n",
    "        embedding=cbfv,\n",
    "        metric=\"spearman\",\n",
    "        cmap=\"Blues_r\",\n",
    "        sortaxisby=\"atomic_number\",\n",
    "        show_axislabels=False,\n",
    "        ax=ax,\n",
    "        **heatmap_params\n",
    "    )\n",
    "    # plt.subplots_adjust(wspace=0.001)\n",
    "\n",
    "\n",
    "fig.tight_layout()\n",
    "fig.savefig(\"SI_spearman.pdf\", bbox_inches=\"tight\")\n",
    "fig.show()"
   ]
  },
  {
   "cell_type": "markdown",
   "metadata": {},
   "source": [
    "### Cosine similarity"
   ]
  },
  {
   "cell_type": "code",
   "execution_count": null,
   "metadata": {},
   "outputs": [],
   "source": [
    "fig, (axes) = plt.subplots(4, 2, figsize=(20, 20))\n",
    "heatmap_params = {\"vmin\": -1, \"vmax\": 1}\n",
    "for ax, cbfv in zip(axes.flatten(), element_embedddings.values()):\n",
    "    heatmap_plotter(\n",
    "        embedding=cbfv,\n",
    "        metric=\"cosine_similarity\",\n",
    "        cmap=\"Blues_r\",\n",
    "        sortaxisby=\"atomic_number\",\n",
    "        show_axislabels=False,\n",
    "        ax=ax,\n",
    "        **heatmap_params\n",
    "    )\n",
    "    # plt.subplots_adjust(wspace=0.001)\n",
    "\n",
    "\n",
    "fig.tight_layout()\n",
    "fig.savefig(\"SI_cosinesimilarity.pdf\", bbox_inches=\"tight\")\n",
    "fig.show()"
   ]
  },
  {
   "cell_type": "markdown",
   "metadata": {},
   "source": [
    "## Two-dimensional projections"
   ]
  },
  {
   "cell_type": "markdown",
   "metadata": {},
   "source": [
    "### Principal Component Analysis (PCA)"
   ]
  },
  {
   "cell_type": "code",
   "execution_count": null,
   "metadata": {},
   "outputs": [],
   "source": [
    "fig, axes = plt.subplots(\n",
    "    4,\n",
    "    2,\n",
    "    figsize=(20, 20),\n",
    ")\n",
    "\n",
    "for ax, cbfv in zip(axes.flatten(), element_embedddings.values()):\n",
    "    dimension_plotter(\n",
    "        embedding=cbfv,\n",
    "        reducer=\"pca\",\n",
    "        n_components=2,\n",
    "        ax=ax,\n",
    "        adjusttext=True,\n",
    "        reducer_params=reducer_params,\n",
    "        scatter_params=scatter_params,\n",
    "    )\n",
    "    ax.legend().remove()\n",
    "\n",
    "\n",
    "handles, labels = ax.get_legend_handles_labels()\n",
    "fig.legend(handles, labels, bbox_to_anchor=(0.54, 1.06), loc=\"upper center\", ncol=5)\n",
    "fig.tight_layout()\n",
    "plt.savefig(\"SI_pca.pdf\", bbox_inches=\"tight\")\n",
    "fig.show()"
   ]
  },
  {
   "cell_type": "markdown",
   "metadata": {},
   "source": [
    "### t-distributed Stochastic Neighbor Embedding (t-SNE)"
   ]
  },
  {
   "cell_type": "code",
   "execution_count": null,
   "metadata": {},
   "outputs": [],
   "source": [
    "fig, axes = plt.subplots(\n",
    "    4,\n",
    "    2,\n",
    "    figsize=(20, 20),\n",
    ")\n",
    "\n",
    "for ax, cbfv in zip(axes.flatten(), element_embedddings.values()):\n",
    "    dimension_plotter(\n",
    "        embedding=cbfv,\n",
    "        reducer=\"tsne\",\n",
    "        n_components=2,\n",
    "        ax=ax,\n",
    "        # adjusttext=True,\n",
    "        reducer_params=reducer_params,\n",
    "        scatter_params=scatter_params,\n",
    "    )\n",
    "    ax.legend().remove()\n",
    "\n",
    "\n",
    "handles, labels = ax.get_legend_handles_labels()\n",
    "fig.legend(handles, labels, bbox_to_anchor=(0.54, 1.06), loc=\"upper center\", ncol=5)\n",
    "fig.tight_layout()\n",
    "plt.savefig(\"SI_tsne.pdf\", bbox_inches=\"tight\")\n",
    "fig.show()"
   ]
  },
  {
   "cell_type": "markdown",
   "metadata": {},
   "source": [
    "### Uniform Manifold Approximation and Projection (UMAP)"
   ]
  },
  {
   "cell_type": "code",
   "execution_count": null,
   "metadata": {},
   "outputs": [],
   "source": [
    "fig, axes = plt.subplots(\n",
    "    4,\n",
    "    2,\n",
    "    figsize=(20, 20),\n",
    ")\n",
    "\n",
    "for ax, cbfv in zip(axes.flatten(), element_embedddings.values()):\n",
    "    dimension_plotter(\n",
    "        embedding=cbfv,\n",
    "        reducer=\"umap\",\n",
    "        n_components=2,\n",
    "        ax=ax,\n",
    "        adjusttext=True,\n",
    "        reducer_params=reducer_params,\n",
    "        scatter_params=scatter_params,\n",
    "    )\n",
    "    ax.legend().remove()\n",
    "\n",
    "\n",
    "handles, labels = ax.get_legend_handles_labels()\n",
    "fig.legend(handles, labels, bbox_to_anchor=(0.54, 1.06), loc=\"upper center\", ncol=5)\n",
    "fig.tight_layout()\n",
    "plt.savefig(\"SI_umap.pdf\", bbox_inches=\"tight\")\n",
    "fig.show()"
   ]
  },
  {
   "cell_type": "markdown",
   "metadata": {},
   "source": [
    "## Distribution of similarity measures"
   ]
  },
  {
   "cell_type": "markdown",
   "metadata": {},
   "source": [
    "### Pearson correlation"
   ]
  },
  {
   "cell_type": "code",
   "execution_count": null,
   "metadata": {},
   "outputs": [],
   "source": [
    "correlation_metrics = [\"pearson\", \"cosine_similarity\"]\n",
    "correlation_dfs = {}\n",
    "for rep in element_embedddings.keys():\n",
    "    correlation_dfs[rep] = {\n",
    "        \"pearson\": element_embedddings[rep].correlation_df(),\n",
    "        \"cosine_similarity\": element_embedddings[rep].correlation_df(\n",
    "            metric=\"cosine_similarity\"\n",
    "        ),\n",
    "    }"
   ]
  },
  {
   "cell_type": "code",
   "execution_count": null,
   "metadata": {},
   "outputs": [],
   "source": [
    "fig, axes = plt.subplots(4, 2, figsize=(20, 20))\n",
    "for ax, cbfv in zip(axes.flatten(), element_embedddings.keys()):\n",
    "    sns.histplot(correlation_dfs[cbfv][\"pearson\"], x=\"pearson\", ax=ax)\n",
    "    ax.set_title(cbfv)\n",
    "    ax.set_xlim(-1, 1)\n",
    "    ax.set_xlabel(\"Pearson correlation\")\n",
    "    ax.set_ylabel(\"Count\")\n",
    "\n",
    "\n",
    "plt.tight_layout()\n",
    "plt.savefig(\"SI_pearson_distribution.pdf\")"
   ]
  },
  {
   "cell_type": "markdown",
   "metadata": {},
   "source": [
    "### Cosine similarity"
   ]
  },
  {
   "cell_type": "code",
   "execution_count": null,
   "metadata": {},
   "outputs": [],
   "source": [
    "fig, axes = plt.subplots(4, 2, figsize=(20, 20))\n",
    "for ax, cbfv in zip(axes.flatten(), element_embedddings.keys()):\n",
    "    sns.histplot(\n",
    "        correlation_dfs[cbfv][\"cosine_similarity\"], x=\"cosine_similarity\", ax=ax\n",
    "    )\n",
    "    ax.set_title(cbfv)\n",
    "    ax.set_xlim(-1, 1)\n",
    "    ax.set_xlabel(\"Cosine similarity\")\n",
    "    ax.set_ylabel(\"Count\")\n",
    "\n",
    "\n",
    "plt.tight_layout()\n",
    "plt.savefig(\"SI_cosine_similarity_distribution.pdf\")"
   ]
  }
 ],
 "metadata": {
  "kernelspec": {
   "display_name": "atomic_dev",
   "language": "python",
   "name": "python3"
  },
  "language_info": {
   "codemirror_mode": {
    "name": "ipython",
    "version": 3
   },
   "file_extension": ".py",
   "mimetype": "text/x-python",
   "name": "python",
   "nbconvert_exporter": "python",
   "pygments_lexer": "ipython3",
   "version": "3.9.16"
  },
  "orig_nbformat": 4
 },
 "nbformat": 4,
 "nbformat_minor": 2
}
