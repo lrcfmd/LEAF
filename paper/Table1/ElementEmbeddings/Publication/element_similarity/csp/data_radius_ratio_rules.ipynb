{
 "cells": [
  {
   "cell_type": "code",
   "execution_count": null,
   "metadata": {},
   "outputs": [],
   "source": [
    "# Imports\n",
    "import seaborn as sns\n",
    "import psutil\n",
    "import multiprocessing as mp\n",
    "from pymatgen.analysis.structure_matcher import StructureMatcher\n",
    "import smact\n",
    "import pandas as pd\n",
    "from pymatgen.core import Composition\n",
    "import matplotlib.pyplot as plt\n",
    "import re\n",
    "from pymatgen.ext.matproj import MPRester\n",
    "import os\n",
    "from pymatgen.analysis.local_env import CrystalNN\n",
    "from typing import Tuple\n",
    "from monty.serialization import loadfn, dumpfn\n",
    "\n",
    "\n",
    "def parse_species(species: str) -> Tuple[str, int]:\n",
    "    \"\"\"\n",
    "    Parses a species string into its atomic symbol and oxidation state.\n",
    "\n",
    "    :param species: the species string\n",
    "    :return: a tuple of the atomic symbol and oxidation state\n",
    "\n",
    "    \"\"\"\n",
    "\n",
    "    ele = re.match(r\"[A-Za-z]+\", species).group(0)\n",
    "\n",
    "    charge_match = re.search(r\"\\d+\", species)\n",
    "    ox_state = int(charge_match.group(0)) if charge_match else 0\n",
    "\n",
    "    if \"-\" in species:\n",
    "        ox_state *= -1\n",
    "\n",
    "    # Handle cases of X+ or X- (instead of X1+ or X1-)\n",
    "    if \"+\" in species and ox_state == 0:\n",
    "        ox_state = 1\n",
    "\n",
    "    if ox_state == 0 and \"-\" in species:\n",
    "        ox_state = -1\n",
    "    return ele, ox_state\n",
    "\n",
    "\n",
    "API_KEY = os.environ.get(\"MP_API_KEY\")\n",
    "os.environ[\"TF_CPP_MIN_LOG_LEVEL\"] = \"3\"\n",
    "\n",
    "\n",
    "def co_ordination_num(structure):\n",
    "    cnn = CrystalNN()\n",
    "    cn = cnn.get_cn(structure, 0)\n",
    "    return cn"
   ]
  },
  {
   "attachments": {},
   "cell_type": "markdown",
   "metadata": {},
   "source": [
    "## CSP\n",
    "\n",
    "We aim to test the embeddings for the task of predicting the structure of binary compounds in four different structure types:\n",
    "* CsCl\n",
    "* Rocksalt\n",
    "* Zincblende\n",
    "* Wurtzite\n",
    "\n",
    "Let's first get example structures for each of these types from the Materials Project.\n",
    "\n",
    "For CsCl, we can use the structure of CsCl (mp-22865, ) itself. For rocksalt, we can use the structure of NaCl (mp-22862, ). For zincblende, we can use the structure of ZnS (mp-10695, ). For wurtzite, we can use the structure of ZnS (mp-560588, )."
   ]
  },
  {
   "cell_type": "code",
   "execution_count": null,
   "metadata": {},
   "outputs": [],
   "source": [
    "with MPRester(API_KEY) as mpr:\n",
    "    cscl_struct = mpr.get_structure_by_material_id(\"mp-22865\")\n",
    "    rock_salt_struct = mpr.get_structure_by_material_id(\"mp-22862\")\n",
    "    zinc_blende_struct = mpr.get_structure_by_material_id(\"mp-10695\")\n",
    "    wurtzite_struct = mpr.get_structure_by_material_id(\"mp-560588\")"
   ]
  },
  {
   "attachments": {},
   "cell_type": "markdown",
   "metadata": {},
   "source": [
    "## Binary materials dataset\n",
    "\n",
    "We will obtain a dataset of binary, non-metal materials from the Materials Project. We will use the pymatgen library to obtain the structures of these materials."
   ]
  },
  {
   "cell_type": "code",
   "execution_count": null,
   "metadata": {},
   "outputs": [],
   "source": [
    "with MPRester(API_KEY) as mpr:\n",
    "    docs = mpr.summary.search(\n",
    "        # num_elements=2,\n",
    "        formula=\"*1*1\",\n",
    "        theoretical=False,\n",
    "        is_metal=False,\n",
    "        fields=[\n",
    "            \"material_id\",\n",
    "            \"formula_pretty\",\n",
    "            \"spacegroup.symbol\",\n",
    "            \"crystal_system\",\n",
    "            \"energy_above_hull\",\n",
    "            \"database_IDs\",\n",
    "            \"possible_species\",\n",
    "            \"structure\",\n",
    "        ],\n",
    "    )\n",
    "\n",
    "docs_list = [doc.dict(exclude={\"fields_not_requested\"}) for doc in docs]\n",
    "df = pd.DataFrame(docs_list)\n",
    "# dumpfn(df, 'df.json')\n",
    "df.head()"
   ]
  },
  {
   "cell_type": "code",
   "execution_count": null,
   "metadata": {},
   "outputs": [],
   "source": [
    "df.formula_pretty.value_counts()"
   ]
  },
  {
   "cell_type": "code",
   "execution_count": null,
   "metadata": {},
   "outputs": [],
   "source": [
    "SM = StructureMatcher(attempt_supercell=True)\n",
    "\n",
    "\n",
    "def determine_structure_type(structure):\n",
    "    if SM.fit_anonymous(structure, cscl_struct):\n",
    "        return \"cscl\"\n",
    "    elif SM.fit_anonymous(structure, rock_salt_struct):\n",
    "        return \"rock salt\"\n",
    "    elif SM.fit_anonymous(structure, zinc_blende_struct):\n",
    "        return \"zinc blende\"\n",
    "    elif SM.fit_anonymous(structure, wurtzite_struct):\n",
    "        return \"wurtzite\"\n",
    "    else:\n",
    "        return \"other\""
   ]
  },
  {
   "cell_type": "code",
   "execution_count": null,
   "metadata": {},
   "outputs": [],
   "source": [
    "with mp.Pool(processes=psutil.cpu_count()) as pool:\n",
    "    df[\"structure_type\"] = pool.map(determine_structure_type, df.structure)"
   ]
  },
  {
   "cell_type": "code",
   "execution_count": null,
   "metadata": {},
   "outputs": [],
   "source": [
    "dumpfn(df, \"df_structure_types.json\")"
   ]
  },
  {
   "cell_type": "code",
   "execution_count": null,
   "metadata": {},
   "outputs": [],
   "source": [
    "fig, ax = plt.subplots(figsize=(10, 5))\n",
    "g = sns.barplot(\n",
    "    x=df.structure_type.value_counts().index, y=df.structure_type.value_counts(), ax=ax\n",
    ")\n",
    "ax.set_xlabel(\"Structure Type\")\n",
    "ax.set_ylabel(\"Count\")\n",
    "ax.set_title(\"Structure Type Distribution\")\n",
    "ax.bar_label(g.containers[0], fmt=\"%d\")\n",
    "fig.show()"
   ]
  },
  {
   "cell_type": "code",
   "execution_count": null,
   "metadata": {},
   "outputs": [],
   "source": [
    "df2 = df.copy()\n",
    "df2 = df2.sort_values(by=[\"formula_pretty\", \"energy_above_hull\"])\n",
    "df2.reset_index(inplace=True, drop=True)\n",
    "df2.drop_duplicates(subset=[\"formula_pretty\"], keep=\"first\", inplace=True)\n",
    "df2.reset_index(inplace=True, drop=True)\n",
    "print(\n",
    "    f\"By removing the duplicate formulae, we have reduced the dataset from {len(df)} to {len(df2)} entries.\"\n",
    ")\n",
    "\n",
    "structure_df = df2[df2.structure_type != \"other\"]\n",
    "structure_df.reset_index(inplace=True, drop=True)\n",
    "print(\n",
    "    f\"By removing the 'other' structure types, we have reduced the dataset from {len(df2)} to {len(structure_df)} entries.\"\n",
    ")\n",
    "structure_df.head()"
   ]
  },
  {
   "cell_type": "code",
   "execution_count": null,
   "metadata": {},
   "outputs": [],
   "source": [
    "structure_df = structure_df[\n",
    "    structure_df.possible_species.map(lambda x: len(x)) > 0\n",
    "].reset_index(drop=True)\n",
    "print(len(structure_df))\n",
    "structure_df.head()"
   ]
  },
  {
   "cell_type": "code",
   "execution_count": null,
   "metadata": {},
   "outputs": [],
   "source": [
    "def get_cation(species_list):\n",
    "    cation_list = []\n",
    "    for species in species_list:\n",
    "        if \"+\" in species:\n",
    "            cation_list.append(parse_species(species))\n",
    "    return cation_list[0]\n",
    "\n",
    "\n",
    "def get_anion(species_list):\n",
    "    anion_list = []\n",
    "    for species in species_list:\n",
    "        if \"-\" in species:\n",
    "            anion_list.append(parse_species(species))\n",
    "    return anion_list[0]\n",
    "\n",
    "\n",
    "structure_df[\"cation\"] = structure_df.possible_species.apply(get_cation)\n",
    "structure_df[\"anion\"] = structure_df.possible_species.apply(get_anion)\n",
    "\n",
    "\n",
    "structure_df.head()"
   ]
  },
  {
   "cell_type": "code",
   "execution_count": null,
   "metadata": {},
   "outputs": [],
   "source": [
    "# Calculate the coordination number using CrystalNN\n",
    "structure_df[\"cn\"] = structure_df.structure.apply(co_ordination_num)\n",
    "\n",
    "\n",
    "# Calculate the radius ratio\n",
    "def radius_ratio(cation, anion):\n",
    "    cat = smact.Species(cation[0], cation[1])\n",
    "    an = smact.Species(anion[0], anion[1])\n",
    "\n",
    "    radius_ratio = cat.average_ionic_radius / an.average_ionic_radius\n",
    "    return radius_ratio\n",
    "\n",
    "\n",
    "structure_df[\"radius_ratio\"] = structure_df.apply(\n",
    "    lambda x: radius_ratio(x[\"cation\"], x[\"anion\"]), axis=1\n",
    ")\n",
    "dumpfn(structure_df, fn=\"df_final_structure.json\")\n",
    "structure_df.head()"
   ]
  },
  {
   "cell_type": "code",
   "execution_count": null,
   "metadata": {},
   "outputs": [],
   "source": [
    "# Remove compositions with no radius ratio\n",
    "rr_df = structure_df[structure_df.radius_ratio.notnull()].reset_index(drop=True)\n",
    "print(\n",
    "    f\"Number of unique compositions with guessible oxidation states and radius ratio: {len(rr_df)}\"\n",
    ")\n",
    "rr_df.head()"
   ]
  },
  {
   "cell_type": "code",
   "execution_count": null,
   "metadata": {},
   "outputs": [],
   "source": [
    "def rr_predict_cn(x):\n",
    "    if x <= 0.155:\n",
    "        return 2\n",
    "    elif 0.155 < x <= 0.225:\n",
    "        return 3\n",
    "    elif 0.225 < x <= 0.414:\n",
    "        return 4\n",
    "    elif 0.414 < x <= 0.732:\n",
    "        return 6\n",
    "    elif 0.732 < x <= 1.0:\n",
    "        return 8\n",
    "    else:\n",
    "        return 12\n",
    "\n",
    "\n",
    "rr_df[\"rr_predict_cn\"] = rr_df.radius_ratio.apply(rr_predict_cn)\n",
    "\n",
    "\n",
    "def compare_cn(x):\n",
    "    if x[\"cn\"] == x[\"rr_predict_cn\"]:\n",
    "        return True\n",
    "    else:\n",
    "        return False\n",
    "\n",
    "\n",
    "rr_df[\"compare_cn\"] = rr_df.apply(compare_cn, axis=1)\n",
    "rr_df.head()"
   ]
  },
  {
   "cell_type": "code",
   "execution_count": null,
   "metadata": {},
   "outputs": [],
   "source": [
    "rr_df.compare_cn.value_counts(normalize=True)\n",
    "fig, ax = plt.subplots()\n",
    "a = ax.bar(\n",
    "    rr_df.compare_cn.value_counts().index,\n",
    "    rr_df.compare_cn.value_counts(normalize=True) * 100,\n",
    ")\n",
    "ax.set_xticks([0, 1])\n",
    "ax.set_xticklabels([\"False\", \"True\"])\n",
    "ax.set_ylabel(\"Percentage of compositions\")\n",
    "ax.set_xlabel(\"Comparison of coordination number\")\n",
    "ax.bar_label(a, fmt=\"%.1f\")\n",
    "fig.show()"
   ]
  },
  {
   "cell_type": "markdown",
   "metadata": {},
   "source": []
  },
  {
   "cell_type": "code",
   "execution_count": null,
   "metadata": {},
   "outputs": [],
   "source": [
    "d = {\n",
    "    \"Radius Ratio Upper\": [1.0, 1.0, 0.717, 0.717, 0.326, 0.225],\n",
    "    \"Radius Ratio Lower\": [1.0, 0.717, 0.326, 0.326, 0.225, 0.155],\n",
    "    \"Coordination Number\": [12, 8, 6, 4, 4, 3],\n",
    "    \"Coordination\": [\n",
    "        \"CCP/HCCP\",\n",
    "        \"Cubic\",\n",
    "        \"Octahedral\",\n",
    "        \"Square Planar\",\n",
    "        \"Tetrahedral\",\n",
    "        \"Triangular\",\n",
    "    ],\n",
    "}\n",
    "\n",
    "RR_table = pd.DataFrame(data=d)\n",
    "RR_table"
   ]
  },
  {
   "cell_type": "code",
   "execution_count": null,
   "metadata": {},
   "outputs": [],
   "source": []
  }
 ],
 "metadata": {
  "kernelspec": {
   "display_name": "el_sim",
   "language": "python",
   "name": "python3"
  },
  "language_info": {
   "codemirror_mode": {
    "name": "ipython",
    "version": 3
   },
   "file_extension": ".py",
   "mimetype": "text/x-python",
   "name": "python",
   "nbconvert_exporter": "python",
   "pygments_lexer": "ipython3",
   "version": "3.9.16"
  },
  "orig_nbformat": 4
 },
 "nbformat": 4,
 "nbformat_minor": 2
}
