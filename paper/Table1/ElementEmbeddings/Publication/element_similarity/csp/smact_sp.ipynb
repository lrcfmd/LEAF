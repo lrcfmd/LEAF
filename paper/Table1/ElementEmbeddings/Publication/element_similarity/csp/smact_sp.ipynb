{
 "cells": [
  {
   "cell_type": "markdown",
   "metadata": {},
   "source": [
    "# SMACT - Structure prediction\n",
    "\n",
    "This notebook is used to perform the structure predictions in the publication. It uses SMACT to carry out structure substitutions."
   ]
  },
  {
   "cell_type": "code",
   "execution_count": 1,
   "metadata": {},
   "outputs": [
    {
     "ename": "ModuleNotFoundError",
     "evalue": "No module named 'sklearn'",
     "output_type": "error",
     "traceback": [
      "\u001b[0;31m---------------------------------------------------------------------------\u001b[0m",
      "\u001b[0;31mModuleNotFoundError\u001b[0m                       Traceback (most recent call last)",
      "\u001b[0;32m/var/folders/9l/nshq291949x2zhg9vq3gqqlh0000gn/T/ipykernel_79926/2307463508.py\u001b[0m in \u001b[0;36m<module>\u001b[0;34m\u001b[0m\n\u001b[1;32m      1\u001b[0m \u001b[0;31m# Imports\u001b[0m\u001b[0;34m\u001b[0m\u001b[0;34m\u001b[0m\u001b[0m\n\u001b[0;32m----> 2\u001b[0;31m \u001b[0;32mfrom\u001b[0m \u001b[0msklearn\u001b[0m\u001b[0;34m.\u001b[0m\u001b[0mmetrics\u001b[0m \u001b[0;32mimport\u001b[0m \u001b[0mconfusion_matrix\u001b[0m\u001b[0;34m,\u001b[0m \u001b[0mConfusionMatrixDisplay\u001b[0m\u001b[0;34m\u001b[0m\u001b[0;34m\u001b[0m\u001b[0m\n\u001b[0m\u001b[1;32m      3\u001b[0m \u001b[0;32mimport\u001b[0m \u001b[0mseaborn\u001b[0m \u001b[0;32mas\u001b[0m \u001b[0msns\u001b[0m\u001b[0;34m\u001b[0m\u001b[0;34m\u001b[0m\u001b[0m\n\u001b[1;32m      4\u001b[0m \u001b[0;32mimport\u001b[0m \u001b[0mmatplotlib\u001b[0m\u001b[0;34m.\u001b[0m\u001b[0mpyplot\u001b[0m \u001b[0;32mas\u001b[0m \u001b[0mplt\u001b[0m\u001b[0;34m\u001b[0m\u001b[0;34m\u001b[0m\u001b[0m\n\u001b[1;32m      5\u001b[0m \u001b[0;32mfrom\u001b[0m \u001b[0mpymatgen\u001b[0m\u001b[0;34m.\u001b[0m\u001b[0manalysis\u001b[0m\u001b[0;34m.\u001b[0m\u001b[0mstructure_matcher\u001b[0m \u001b[0;32mimport\u001b[0m \u001b[0mStructureMatcher\u001b[0m\u001b[0;34m\u001b[0m\u001b[0;34m\u001b[0m\u001b[0m\n",
      "\u001b[0;31mModuleNotFoundError\u001b[0m: No module named 'sklearn'"
     ]
    }
   ],
   "source": [
    "# Imports\n",
    "from sklearn.metrics import confusion_matrix, ConfusionMatrixDisplay\n",
    "import seaborn as sns\n",
    "import matplotlib.pyplot as plt\n",
    "from pymatgen.analysis.structure_matcher import StructureMatcher\n",
    "from pymatgen.ext.matproj import MPRester\n",
    "from typing import List\n",
    "from operator import itemgetter\n",
    "from datetime import datetime\n",
    "from pymatgen.transformations.standard_transformations import (\n",
    "    OxidationStateDecorationTransformation,\n",
    ")\n",
    "from monty.serialization import loadfn\n",
    "from smact.structure_prediction import (\n",
    "    prediction,\n",
    "    database,\n",
    "    mutation,\n",
    "    probability_models,\n",
    "    structure,\n",
    "    utilities,\n",
    ")\n",
    "from pymatgen.core.structure import Structure as pmg_structure\n",
    "import pandas as pd\n",
    "import os\n",
    "import re\n",
    "\n",
    "\n",
    "def parse_species(species: str) -> tuple[str, int]:\n",
    "    \"\"\"\n",
    "    Parses a species string into its atomic symbol and oxidation state.\n",
    "\n",
    "    :param species: the species string\n",
    "    :return: a tuple of the atomic symbol and oxidation state\n",
    "\n",
    "    \"\"\"\n",
    "\n",
    "    ele = re.match(r\"[A-Za-z]+\", species).group(0)\n",
    "\n",
    "    charge_match = re.search(r\"\\d+\", species)\n",
    "    ox_state = int(charge_match.group(0)) if charge_match else 0\n",
    "\n",
    "    if \"-\" in species:\n",
    "        ox_state *= -1\n",
    "\n",
    "    # Handle cases of X+ or X- (instead of X1+ or X1-)\n",
    "    if \"+\" in species and ox_state == 0:\n",
    "        ox_state = 1\n",
    "\n",
    "    if ox_state == 0 and \"-\" in species:\n",
    "        ox_state = -1\n",
    "    return ele, ox_state"
   ]
  },
  {
   "cell_type": "markdown",
   "metadata": {},
   "source": [
    "## Load the data\n",
    "Here we load the data from our radius ratio rules experiment."
   ]
  },
  {
   "cell_type": "code",
   "execution_count": null,
   "metadata": {},
   "outputs": [],
   "source": [
    "df = loadfn(\"df_final_structure.json\")\n",
    "\n",
    "df[\"structure\"] = df[\"structure\"].apply(lambda x: pmg_structure.from_str(x, fmt=\"json\"))\n",
    "print(df.shape)\n",
    "df.head()"
   ]
  },
  {
   "cell_type": "markdown",
   "metadata": {},
   "source": [
    "The following block serves to add oxidation states to the structures so that we can add them into the smact StructureDB object."
   ]
  },
  {
   "cell_type": "code",
   "execution_count": null,
   "metadata": {},
   "outputs": [],
   "source": [
    "# Add oxidation states to the structures\n",
    "\n",
    "oxi_structures = []\n",
    "mpid_to_comp = {}\n",
    "comp_to_mpid = {}\n",
    "for i, row in df.iterrows():\n",
    "    spec_dict = {row[\"cation\"][0]: row[\"cation\"][1], row[\"anion\"][0]: row[\"anion\"][1]}\n",
    "    oxi_trans = OxidationStateDecorationTransformation(spec_dict)\n",
    "    oxi_structures.append(oxi_trans.apply_transformation(row[\"structure\"]))\n",
    "\n",
    "    # Create a dictionary to map between material id and formula\n",
    "    mpid_to_comp[row[\"material_id\"]] = row[\"formula_pretty\"]\n",
    "    comp_to_mpid[row[\"formula_pretty\"]] = row[\"material_id\"]\n",
    "\n",
    "df[\"oxi_structure\"] = oxi_structures\n",
    "df.head()"
   ]
  },
  {
   "cell_type": "code",
   "execution_count": null,
   "metadata": {},
   "outputs": [],
   "source": [
    "# Create database\n",
    "db_test = database.StructureDB(\"binary_structures.db\")\n",
    "\n",
    "# Uncomment the block below the first time you run this cell to create a table and add the structures.\n",
    "\n",
    "# db_test.add_table(\"structures\")\n",
    "\n",
    "# Create smactstructures\n",
    "\n",
    "# smact_structs = [structure.SmactStructure.from_py_struct(struct,determine_oxi=\"predecorated\") for struct in df['oxi_structure']]\n",
    "\n",
    "# Add structures to database\n",
    "# db_test.add_structs(smact_structs,table=\"structures\")"
   ]
  },
  {
   "cell_type": "markdown",
   "metadata": {},
   "source": [
    "### Set up Cation Mutators\n"
   ]
  },
  {
   "cell_type": "code",
   "execution_count": null,
   "metadata": {},
   "outputs": [],
   "source": [
    "cosine_cbfv_files = os.listdir(\"cosine_similarity\")\n",
    "element_embeddings = [f.split(\".\")[0] for f in cosine_cbfv_files]\n",
    "print(element_embeddings)"
   ]
  },
  {
   "cell_type": "code",
   "execution_count": null,
   "metadata": {},
   "outputs": [],
   "source": [
    "CM_dict = {}\n",
    "for element_embedding in element_embeddings:\n",
    "    CM_dict[element_embedding] = mutation.CationMutator.from_json(\n",
    "        f\"cosine_similarity/{element_embedding}.json\"\n",
    "    )\n",
    "\n",
    "CM_dict[\"hautier\"] = mutation.CationMutator.from_json()"
   ]
  },
  {
   "cell_type": "markdown",
   "metadata": {},
   "source": [
    "### Set up structure prediction functions\n"
   ]
  },
  {
   "cell_type": "code",
   "execution_count": null,
   "metadata": {},
   "outputs": [],
   "source": [
    "def predict_structures(\n",
    "    predictor: prediction.StructurePredictor,\n",
    "    species: list[tuple[str, int]],\n",
    "    thresh: float = 0,\n",
    "):\n",
    "    \"\"\"\n",
    "    Predict structures for a given species.\n",
    "    \"\"\"\n",
    "    preds = []\n",
    "    parents_list = []\n",
    "    probs_list = []\n",
    "\n",
    "    for specs in species:\n",
    "        try:\n",
    "            predictions = list(\n",
    "                predictor.predict_structs(specs, thresh=thresh, include_same=False)\n",
    "            )\n",
    "            predictions.sort(key=itemgetter(1), reverse=True)\n",
    "            parents = [x[2].composition() for x in predictions]\n",
    "            probs = [x[1] for x in predictions]\n",
    "            preds.append(predictions)\n",
    "            parents_list.append(parents)\n",
    "            probs_list.append(probs)\n",
    "        except ValueError:\n",
    "            preds.append([])\n",
    "            parents_list.append([])\n",
    "            probs_list.append([])\n",
    "\n",
    "    pred_structs = []\n",
    "    parent_comp = []\n",
    "    for pred in preds:\n",
    "        if len(pred) == 0:\n",
    "            pred_structs.append(None)\n",
    "            parent_comp.append(None)\n",
    "        else:\n",
    "            pred_structs.append(pred[0][0].as_poscar())\n",
    "            parent_comp.append(\n",
    "                pmg_structure.from_str(\n",
    "                    pred[0][2].as_poscar(), fmt=\"poscar\"\n",
    "                ).composition.reduced_formula\n",
    "            )\n",
    "\n",
    "    print(\n",
    "        len(pred_structs), len(species), len(preds), len(probs_list), len(parents_list)\n",
    "    )\n",
    "    return pred_structs, parent_comp"
   ]
  },
  {
   "cell_type": "code",
   "execution_count": null,
   "metadata": {},
   "outputs": [],
   "source": [
    "API_KEY = os.environ[\"MP_API_KEY\"]\n",
    "# Get the structures of the 4 chosen structure types.\n",
    "\n",
    "struct_files = [\"cscl.cif\", \"rock_salt.cif\", \"zinc_blende.cif\", \"wurtzite.cif\"]\n",
    "\n",
    "# Load the structures from cif files if available else, query materials project\n",
    "if all([True for x in struct_files if x in os.listdir(\"./structure_files\")]):\n",
    "    cscl_struct = pmg_structure.from_file(\"./structure_files/cscl.cif\")\n",
    "    rock_salt_struct = pmg_structure.from_file(\"./structure_files/rock_salt.cif\")\n",
    "    zinc_blende_struct = pmg_structure.from_file(\"./structure_files/zinc_blende.cif\")\n",
    "    wurtzite_struct = pmg_structure.from_file(\"./structure_files/wurtzite.cif\")\n",
    "else:\n",
    "    with MPRester(API_KEY) as mpr:\n",
    "        cscl_struct = mpr.get_structure_by_material_id(\"mp-22865\")\n",
    "        rock_salt_struct = mpr.get_structure_by_material_id(\"mp-22862\")\n",
    "        zinc_blende_struct = mpr.get_structure_by_material_id(\"mp-10695\")\n",
    "        wurtzite_struct = mpr.get_structure_by_material_id(\"mp-560588\")\n",
    "        # Save structures to cifs\n",
    "        cscl_struct.to(filename=\"cscl.cif\")\n",
    "        rock_salt_struct.to(filename=\"rock_salt.cif\")\n",
    "        zinc_blende_struct.to(filename=\"zinc_blende.cif\")\n",
    "        wurtzite_struct.to(filename=\"wurtzite.cif\")"
   ]
  },
  {
   "cell_type": "code",
   "execution_count": null,
   "metadata": {},
   "outputs": [],
   "source": [
    "# Get the list of species\n",
    "species_list = [\n",
    "    (parse_species(x[0]), parse_species(x[1])) for x in df[\"possible_species\"]\n",
    "]"
   ]
  },
  {
   "cell_type": "markdown",
   "metadata": {},
   "source": [
    "### Structure prediction"
   ]
  },
  {
   "cell_type": "code",
   "execution_count": null,
   "metadata": {},
   "outputs": [],
   "source": [
    "for key, value in CM_dict.items():\n",
    "    print(key, value)\n",
    "\n",
    "    # Predict structures\n",
    "    # Set up the predictor\n",
    "    sp_test = prediction.StructurePredictor(\n",
    "        mutator=value, struct_db=db_test, table=\"structures\"\n",
    "    )\n",
    "    prediction_result = predict_structures(sp_test, species_list, thresh=0)\n",
    "    df[f\"{key}_struct\"], df[f\"{key}_formula\"] = (\n",
    "        prediction_result[0],\n",
    "        prediction_result[1],\n",
    "    )\n",
    "\n",
    "df.head()"
   ]
  },
  {
   "cell_type": "code",
   "execution_count": null,
   "metadata": {},
   "outputs": [],
   "source": [
    "# Determine the structure type of the predicted structures\n",
    "\n",
    "\n",
    "SM = StructureMatcher(attempt_supercell=True)\n",
    "\n",
    "\n",
    "def determine_structure_type(structure):\n",
    "    if structure is None:\n",
    "        return None\n",
    "    elif SM.fit_anonymous(pmg_structure.from_str(structure, fmt=\"poscar\"), cscl_struct):\n",
    "        return \"cscl\"\n",
    "    elif SM.fit_anonymous(\n",
    "        pmg_structure.from_str(structure, fmt=\"poscar\"), rock_salt_struct\n",
    "    ):\n",
    "        return \"rock salt\"\n",
    "    elif SM.fit_anonymous(\n",
    "        pmg_structure.from_str(structure, fmt=\"poscar\"), zinc_blende_struct\n",
    "    ):\n",
    "        return \"zinc blende\"\n",
    "    elif SM.fit_anonymous(\n",
    "        pmg_structure.from_str(structure, fmt=\"poscar\"), wurtzite_struct\n",
    "    ):\n",
    "        return \"wurtzite\"\n",
    "    else:\n",
    "        return \"other\"\n",
    "\n",
    "\n",
    "for key in CM_dict.keys():\n",
    "    df[f\"{key}_struct_type\"] = df[f\"{key}_struct\"].apply(determine_structure_type)\n",
    "\n",
    "df.head()"
   ]
  },
  {
   "cell_type": "code",
   "execution_count": null,
   "metadata": {},
   "outputs": [],
   "source": [
    "# Determine if the predicted structure type is the same as the original structure type\n",
    "\n",
    "for key in CM_dict.keys():\n",
    "    df[f\"{key}_same_struct_type\"] = df.apply(\n",
    "        lambda x: x[\"structure_type\"] == x[f\"{key}_struct_type\"], axis=1\n",
    "    )\n",
    "\n",
    "df.head()"
   ]
  },
  {
   "cell_type": "code",
   "execution_count": null,
   "metadata": {},
   "outputs": [],
   "source": [
    "# Create a dictionary of value counts for each structure type\n",
    "struct_type_counts = {}\n",
    "for key in CM_dict.keys():\n",
    "    struct_type_counts[key] = df[f\"{key}_struct_type\"].value_counts()\n",
    "\n",
    "struct_type_counts[\"materials_project\"] = df[\"structure_type\"].value_counts()\n",
    "# Create a dataframe of the value counts\n",
    "df_struct_type_counts = pd.DataFrame(struct_type_counts)\n",
    "df_struct_type_counts.head()"
   ]
  },
  {
   "cell_type": "code",
   "execution_count": null,
   "metadata": {},
   "outputs": [],
   "source": [
    "# Bar plot of the results\n",
    "\n",
    "sns.set(context=\"paper\", font_scale=1.5)\n",
    "ax = df_struct_type_counts.plot.bar(figsize=(10, 10), rot=0)\n",
    "ax.set_ylabel(\"Number of structures\")\n",
    "ax.set_xlabel(\"Structure type\")\n",
    "ax.set_title(\"Structure types of predicted structures\")\n",
    "plt.savefig(\"structure_types.pdf\", dpi=300, bbox_inches=\"tight\")\n",
    "plt.show()"
   ]
  },
  {
   "cell_type": "code",
   "execution_count": null,
   "metadata": {},
   "outputs": [],
   "source": [
    "# Compute the accuracy of the predictions\n",
    "for key in CM_dict.keys():\n",
    "    print(f'{key} accuracy = {df[f\"{key}_same_struct_type\"].mean():.3f}')"
   ]
  },
  {
   "cell_type": "markdown",
   "metadata": {},
   "source": [
    "### Alternate result visualisations\n",
    "\n",
    "The averages and the barplot are not necessarily the most efficient way for communicating the results. \n",
    "We can use confusion matrices as well to show off the specific class predictions\n"
   ]
  },
  {
   "cell_type": "code",
   "execution_count": null,
   "metadata": {},
   "outputs": [],
   "source": [
    "fig, axes = plt.subplots(4, 2, figsize=(18, 24), sharex=\"all\", sharey=\"all\")\n",
    "class_labels = list(df[\"structure_type\"].unique())\n",
    "for key, ax in zip(CM_dict.keys(), axes.flatten()):\n",
    "    true_label = df[\"structure_type\"].values\n",
    "    pred_label = df[f\"{key}_struct_type\"]\n",
    "    pred_label.fillna(\"None\", inplace=True)\n",
    "    pred_label = pred_label.values\n",
    "    cm = confusion_matrix(true_label, pred_label, labels=class_labels)\n",
    "    disp = ConfusionMatrixDisplay(\n",
    "        confusion_matrix=cm, display_labels=class_labels\n",
    "    ).plot(include_values=True, cmap=\"Blues\", ax=ax)\n",
    "    ax.set_title(f\"{key}\", fontweight=\"bold\")\n",
    "\n",
    "fig.suptitle(\"Confusion Matrices\")\n",
    "plt.tight_layout()\n",
    "plt.savefig(\"confusion_matrix.pdf\", bbox_inches=\"tight\")\n",
    "plt.show()"
   ]
  },
  {
   "cell_type": "markdown",
   "metadata": {},
   "source": [
    "### Generating tables\n",
    "The following section exists just for outputting tables of the formulas with their chosen templates to tex tables as well as a csv file."
   ]
  },
  {
   "cell_type": "code",
   "execution_count": null,
   "metadata": {},
   "outputs": [],
   "source": [
    "# Set up table for outputting compositions\n",
    "columns_to_keep = [\n",
    "    \"formula_pretty\",\n",
    "    \"material_id\",\n",
    "    \"oliynyk_formula\",\n",
    "    \"matscholar_formula\",\n",
    "    \"mat2vec_formula\",\n",
    "    \"random_200_formula\",\n",
    "    \"skipatom_formula\",\n",
    "    \"magpie_formula\",\n",
    "    \"megnet16_formula\",\n",
    "    \"hautier_formula\",\n",
    "]\n",
    "\n",
    "# Filter unrelated columns\n",
    "comp_pred_df = df[columns_to_keep]\n",
    "\n",
    "# Concatenate the material project ids and formula\n",
    "comp_pred_df[\"target_formula\"] = [\n",
    "    f\"{comp} ({comp_to_mpid[comp]})\" for comp in comp_pred_df[\"formula_pretty\"]\n",
    "]\n",
    "\n",
    "for key in CM_dict.keys():\n",
    "    comp_pred_df[f\"{key}_template\"] = [\n",
    "        f\"{comp} ({comp_to_mpid[comp]})\" if comp else None\n",
    "        for comp in comp_pred_df[f\"{key}_formula\"]\n",
    "    ]\n",
    "comp_pred_df.drop(columns=columns_to_keep, inplace=True)\n",
    "comp_pred_df.head()"
   ]
  },
  {
   "cell_type": "code",
   "execution_count": null,
   "metadata": {},
   "outputs": [],
   "source": [
    "# Create two dataframes to output to latex tables\n",
    "\n",
    "latex_df1 = comp_pred_df[\n",
    "    [\n",
    "        \"target_formula\",\n",
    "        \"oliynyk_template\",\n",
    "        \"matscholar_template\",\n",
    "        \"mat2vec_template\",\n",
    "        \"random_200_template\",\n",
    "    ]\n",
    "]\n",
    "\n",
    "latex_df2 = comp_pred_df[\n",
    "    [\n",
    "        \"target_formula\",\n",
    "        \"skipatom_template\",\n",
    "        \"magpie_template\",\n",
    "        \"megnet16_template\",\n",
    "        \"hautier_template\",\n",
    "    ]\n",
    "]\n",
    "\n",
    "latex_df1.to_latex(\n",
    "    \"formula_templates1.tex\",\n",
    "    index=False,\n",
    "    label=\"stab1\",\n",
    "    longtable=True,\n",
    "    caption=\"Table of the target formulas from the Materials project and the template materials used to predict the structure of the target material. The template materials can be considered the most similar under each representation.\",\n",
    ")\n",
    "\n",
    "latex_df2.to_latex(\n",
    "    \"formula_templates2.tex\",\n",
    "    index=False,\n",
    "    label=\"stab2\",\n",
    "    longtable=True,\n",
    "    caption=\"Table of the target formulas from the Materials project and the template materials used to predict the structure of the target material. The template materials can be considered the most similar under each representation.\",\n",
    ")"
   ]
  },
  {
   "cell_type": "code",
   "execution_count": null,
   "metadata": {},
   "outputs": [],
   "source": [
    "comp_pred_df.to_csv(\"formula_templates.csv\", index=False)"
   ]
  }
 ],
 "metadata": {
  "kernelspec": {
   "display_name": "Python 3 (ipykernel)",
   "language": "python",
   "name": "python3"
  },
  "language_info": {
   "codemirror_mode": {
    "name": "ipython",
    "version": 3
   },
   "file_extension": ".py",
   "mimetype": "text/x-python",
   "name": "python",
   "nbconvert_exporter": "python",
   "pygments_lexer": "ipython3",
   "version": "3.10.0"
  }
 },
 "nbformat": 4,
 "nbformat_minor": 2
}
