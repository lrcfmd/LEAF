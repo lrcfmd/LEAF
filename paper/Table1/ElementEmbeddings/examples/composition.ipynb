{
 "cells": [
  {
   "cell_type": "code",
   "execution_count": null,
   "metadata": {},
   "outputs": [],
   "source": [
    "import pandas as pd\n",
    "from elementembeddings.composition import composition_featuriser\n",
    "from elementembeddings.composition import CompositionalEmbedding\n",
    "import numpy as np\n",
    "\n",
    "np.set_printoptions(suppress=True)"
   ]
  },
  {
   "attachments": {},
   "cell_type": "markdown",
   "metadata": {},
   "source": [
    "The core class of the `elementembeddings.composition` module is the `CompositionalEmbedding` class.\n",
    "We can use this class the create objects which represent a composition and an elemental representation.\n",
    "We can create an instance of this class as follows:\n",
    "\n",
    "```python\n",
    "CsPbI3_magpie = CompositionalEmbedding(formula='CsPbI3', embedding='magpie')\n",
    "```\n"
   ]
  },
  {
   "cell_type": "code",
   "execution_count": null,
   "metadata": {},
   "outputs": [],
   "source": [
    "CsPbI3_magpie = CompositionalEmbedding(formula=\"CsPbI3\", embedding=\"magpie\")"
   ]
  },
  {
   "attachments": {},
   "cell_type": "markdown",
   "metadata": {},
   "source": [
    "We can access the elemental embeddings of the individual elements in the composition from the `el_matrix` attribute.\n",
    "```python\n",
    ">>> CsPbI3_magpie.el_matrix\n",
    "```"
   ]
  },
  {
   "cell_type": "code",
   "execution_count": null,
   "metadata": {},
   "outputs": [],
   "source": [
    "# Print the individual element feature vectors\n",
    "print(CsPbI3_magpie.el_matrix)"
   ]
  },
  {
   "attachments": {},
   "cell_type": "markdown",
   "metadata": {},
   "source": [
    "Some properties which are accessible are the `composition` and `fractional composition` which are dictionaries of element:amount key:value pairs."
   ]
  },
  {
   "cell_type": "code",
   "execution_count": null,
   "metadata": {},
   "outputs": [],
   "source": [
    "# Print the composition and the fractional composition\n",
    "print(CsPbI3_magpie.composition)\n",
    "print(CsPbI3_magpie.fractional_composition)"
   ]
  },
  {
   "attachments": {},
   "cell_type": "markdown",
   "metadata": {},
   "source": [
    "Other properties and attributes that can be accessed are the (normalised) stoichiometry represented as a vector.\n"
   ]
  },
  {
   "cell_type": "code",
   "execution_count": null,
   "metadata": {},
   "outputs": [],
   "source": [
    "# Print the list of elements\n",
    "print(CsPbI3_magpie.element_list)\n",
    "# Print the stoichiometric vector\n",
    "print(CsPbI3_magpie.stoich_vector)\n",
    "\n",
    "# Print the normalized stoichiometric vector\n",
    "print(CsPbI3_magpie.norm_stoich_vector)\n",
    "\n",
    "# Print the number of atoms\n",
    "print(CsPbI3_magpie.num_atoms)"
   ]
  },
  {
   "attachments": {},
   "cell_type": "markdown",
   "metadata": {},
   "source": [
    "We can create create compositional-based feature vectors using the `feature_vector` method.\n",
    "```python\n",
    ">>> CsPbI3_magpie.feature_vector()\n",
    "```\n",
    "By default, this will return the weighted average of the elemental embeddings of the composition. This would have the same dimension as the individual elemental embeddings.\n",
    "We can also specify the type of feature vector we want to create by passing the `stats` argument.\n",
    "```python\n",
    ">>> CsPbI3_magpie.feature_vector(stats=['mean', 'variance'])\n",
    "```\n",
    "This would return a feature vector which is the concatenation of the mean and variance of the elemental embeddings of the composition. This would have twice the dimension of the individual elemental embeddings. In general, the dimension of the feature vector is the product of the dimension of the elemental embeddings and the number of statistics requested.\n",
    "\n",
    "The available statistics are:\n",
    "- `mean`\n",
    "- `variance`\n",
    "- `minpool`\n",
    "- `maxpool`\n",
    "- `sum`\n",
    "- `range`\n",
    "- `harmonic_mean`\n",
    "- `geometric_mean`\n",
    "\n"
   ]
  },
  {
   "cell_type": "code",
   "execution_count": null,
   "metadata": {},
   "outputs": [],
   "source": [
    "# Print the mean feature vector\n",
    "print(CsPbI3_magpie.feature_vector(stats=\"mean\"))"
   ]
  },
  {
   "cell_type": "code",
   "execution_count": null,
   "metadata": {},
   "outputs": [],
   "source": [
    "# Print the feature vector for the mean, variance, minpool, maxpool, and sum\n",
    "CsPbI3_magpie_cbfv = CsPbI3_magpie.feature_vector(\n",
    "    stats=[\"mean\", \"variance\", \"minpool\", \"maxpool\", \"sum\"]\n",
    ")\n",
    "print(f\"The dimension of the feature vector is {CsPbI3_magpie_cbfv.shape[0]}\")\n",
    "\n",
    "print(CsPbI3_magpie_cbfv)"
   ]
  },
  {
   "attachments": {},
   "cell_type": "markdown",
   "metadata": {},
   "source": [
    "We can also featurise multiple formulas at once using the `composition_featuriser` function.\n",
    "```python\n",
    ">>> composition_featuriser([\"CsPbI3\", \"Fe2O3\", \"NaCl\"], embedding='magpie')\n",
    "```\n",
    "This will return a `numpy` array of the feature vectors of the compositions. The order of the feature vectors will be the same as the order of the formulas in the input list.\n"
   ]
  },
  {
   "cell_type": "code",
   "execution_count": null,
   "metadata": {},
   "outputs": [],
   "source": [
    "formulas = [\"CsPbI3\", \"Fe2O3\", \"NaCl\"]\n",
    "\n",
    "composition_featuriser(formulas, embedding=\"magpie\", stats=\"mean\")"
   ]
  },
  {
   "cell_type": "code",
   "execution_count": null,
   "metadata": {},
   "outputs": [],
   "source": [
    "df = pd.DataFrame({\"formula\": formulas})\n",
    "composition_featuriser(df, embedding=\"magpie\", stats=[\"mean\", \"sum\"])"
   ]
  },
  {
   "cell_type": "markdown",
   "metadata": {},
   "source": [
    "We can also calculate the \"distance\" between two compositions using their feature vectors. This can be used to determine which compositions are more similar to each other."
   ]
  },
  {
   "cell_type": "code",
   "execution_count": null,
   "metadata": {},
   "outputs": [],
   "source": [
    "print(\n",
    "    f\"The euclidean distance between CsPbI3 and Fe2O3 is {CsPbI3_magpie.distance('Fe2O3', distance_metric='euclidean', stats='mean'):.2f}\"\n",
    ")\n",
    "print(\n",
    "    f\"The euclidean distance between CsPbI3 and NaCl is {CsPbI3_magpie.distance('NaCl',distance_metric='euclidean', stats='mean'):.2f}\"\n",
    ")\n",
    "print(\n",
    "    f\"The euclidean distance between CsPbI3 and CsPbCl3 is {CsPbI3_magpie.distance('CsPbCl3',distance_metric='euclidean', stats='mean'):.2f}\"\n",
    ")"
   ]
  },
  {
   "cell_type": "markdown",
   "metadata": {},
   "source": [
    "Based on the mean-pooled feature vectors, we can see that CsPbI3 and CsPbBr3 are more similar to each other than CsPbI3 and Fe2O3."
   ]
  }
 ],
 "metadata": {
  "kernelspec": {
   "display_name": "atomic_dev",
   "language": "python",
   "name": "python3"
  },
  "language_info": {
   "codemirror_mode": {
    "name": "ipython",
    "version": 3
   },
   "file_extension": ".py",
   "mimetype": "text/x-python",
   "name": "python",
   "nbconvert_exporter": "python",
   "pygments_lexer": "ipython3",
   "version": "3.9.16"
  },
  "vscode": {
   "interpreter": {
    "hash": "94b27d7815fced387b88df5b0ff93cedd6822b989d46e35c5073559e46421f5f"
   }
  }
 },
 "nbformat": 4,
 "nbformat_minor": 2
}
